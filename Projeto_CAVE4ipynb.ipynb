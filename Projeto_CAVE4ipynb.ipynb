{
  "nbformat": 4,
  "nbformat_minor": 0,
  "metadata": {
    "colab": {
      "provenance": [],
      "authorship_tag": "ABX9TyNU1/FTty5FWasiRUnuQuQy",
      "include_colab_link": true
    },
    "kernelspec": {
      "name": "python3",
      "display_name": "Python 3"
    },
    "language_info": {
      "name": "python"
    }
  },
  "cells": [
    {
      "cell_type": "markdown",
      "metadata": {
        "id": "view-in-github",
        "colab_type": "text"
      },
      "source": [
        "<a href=\"https://colab.research.google.com/github/GiulianaSalles/Machine-Learning-/blob/main/Projeto_CAVE4ipynb.ipynb\" target=\"_parent\"><img src=\"https://colab.research.google.com/assets/colab-badge.svg\" alt=\"Open In Colab\"/></a>"
      ]
    },
    {
      "cell_type": "code",
      "source": [
        "!pip install groq"
      ],
      "metadata": {
        "colab": {
          "base_uri": "https://localhost:8080/"
        },
        "collapsed": true,
        "id": "xA7XhSy-64Cz",
        "outputId": "963e5139-5da4-4204-bc3e-10ad653bf195"
      },
      "execution_count": 1,
      "outputs": [
        {
          "output_type": "stream",
          "name": "stdout",
          "text": [
            "Collecting groq\n",
            "  Downloading groq-0.13.0-py3-none-any.whl.metadata (13 kB)\n",
            "Requirement already satisfied: anyio<5,>=3.5.0 in /usr/local/lib/python3.10/dist-packages (from groq) (3.7.1)\n",
            "Requirement already satisfied: distro<2,>=1.7.0 in /usr/local/lib/python3.10/dist-packages (from groq) (1.9.0)\n",
            "Requirement already satisfied: httpx<1,>=0.23.0 in /usr/local/lib/python3.10/dist-packages (from groq) (0.27.2)\n",
            "Requirement already satisfied: pydantic<3,>=1.9.0 in /usr/local/lib/python3.10/dist-packages (from groq) (2.9.2)\n",
            "Requirement already satisfied: sniffio in /usr/local/lib/python3.10/dist-packages (from groq) (1.3.1)\n",
            "Requirement already satisfied: typing-extensions<5,>=4.7 in /usr/local/lib/python3.10/dist-packages (from groq) (4.12.2)\n",
            "Requirement already satisfied: idna>=2.8 in /usr/local/lib/python3.10/dist-packages (from anyio<5,>=3.5.0->groq) (3.10)\n",
            "Requirement already satisfied: exceptiongroup in /usr/local/lib/python3.10/dist-packages (from anyio<5,>=3.5.0->groq) (1.2.2)\n",
            "Requirement already satisfied: certifi in /usr/local/lib/python3.10/dist-packages (from httpx<1,>=0.23.0->groq) (2024.8.30)\n",
            "Requirement already satisfied: httpcore==1.* in /usr/local/lib/python3.10/dist-packages (from httpx<1,>=0.23.0->groq) (1.0.7)\n",
            "Requirement already satisfied: h11<0.15,>=0.13 in /usr/local/lib/python3.10/dist-packages (from httpcore==1.*->httpx<1,>=0.23.0->groq) (0.14.0)\n",
            "Requirement already satisfied: annotated-types>=0.6.0 in /usr/local/lib/python3.10/dist-packages (from pydantic<3,>=1.9.0->groq) (0.7.0)\n",
            "Requirement already satisfied: pydantic-core==2.23.4 in /usr/local/lib/python3.10/dist-packages (from pydantic<3,>=1.9.0->groq) (2.23.4)\n",
            "Downloading groq-0.13.0-py3-none-any.whl (108 kB)\n",
            "\u001b[?25l   \u001b[90m━━━━━━━━━━━━━━━━━━━━━━━━━━━━━━━━━━━━━━━━\u001b[0m \u001b[32m0.0/108.8 kB\u001b[0m \u001b[31m?\u001b[0m eta \u001b[36m-:--:--\u001b[0m\r\u001b[2K   \u001b[90m━━━━━━━━━━━━━━━━━━━━━━━━━━━━━━━━━━━━━━━━\u001b[0m \u001b[32m108.8/108.8 kB\u001b[0m \u001b[31m3.3 MB/s\u001b[0m eta \u001b[36m0:00:00\u001b[0m\n",
            "\u001b[?25hInstalling collected packages: groq\n",
            "Successfully installed groq-0.13.0\n"
          ]
        }
      ]
    },
    {
      "cell_type": "code",
      "execution_count": 2,
      "metadata": {
        "id": "_38zW6y06yVi"
      },
      "outputs": [],
      "source": [
        "import os\n",
        "from groq import Groq\n",
        "\n",
        "# Configuração\n",
        "def configurar_groq(api_key):\n",
        "    os.environ[\"GROQ_API_KEY\"] = api_key\n",
        "    return Groq()"
      ]
    },
    {
      "cell_type": "code",
      "source": [
        "def formatar_explicacao(explicacao, max_linha=80):\n",
        "    \"\"\"Formata a explicação para que cada linha tenha no máximo max_linha caracteres.\"\"\"\n",
        "    palavras = explicacao.split()\n",
        "    linhas = []\n",
        "    linha_atual = \"\"\n",
        "\n",
        "    for palavra in palavras:\n",
        "        if len(linha_atual) + len(palavra) + 1 > max_linha:\n",
        "            linhas.append(linha_atual.strip())\n",
        "            linha_atual = palavra + \" \"\n",
        "        else:\n",
        "            linha_atual += palavra + \" \"\n",
        "\n",
        "    if linha_atual:\n",
        "        linhas.append(linha_atual.strip())\n",
        "\n",
        "    return \"\\n\".join(linhas)\n",
        "\n",
        "def corrigir_frase_e_explicar(client, frase_usuario):\n",
        "    try:\n",
        "        # Ajustar o prompt para obter a correção e uma explicação\n",
        "        prompt = (\n",
        "            f\"Corrija a seguinte frase gramaticalmente: {frase_usuario}. \"\n",
        "            \"Dê uma explicação breve sobre o erro, mas responda de forma organizada no formato: \"\n",
        "            \"Correção: [frase corrigida]\\nExplicação: [breve explicação em português].\"\n",
        "        )\n",
        "\n",
        "        # Gerar a resposta do modelo\n",
        "        completion = client.chat.completions.create(\n",
        "            model=\"llama3-groq-70b-8192-tool-use-preview\",\n",
        "            messages=[\n",
        "                {\"role\": \"user\", \"content\": prompt}\n",
        "            ],\n",
        "            temperature=0.5,\n",
        "            max_tokens=1024,\n",
        "            top_p=0.65,\n",
        "            stream=False,\n",
        "            stop=None,\n",
        "        )\n",
        "\n",
        "        # Processar a resposta\n",
        "        resposta = completion.choices[0].message.content.strip()\n",
        "\n",
        "        # Separar a correção e a explicação\n",
        "        if \"Correção:\" in resposta and \"Explicação:\" in resposta:\n",
        "            partes = resposta.split(\"\\n\")\n",
        "            correcao = partes[0].replace(\"Correção:\", \"\").strip()\n",
        "            explicacao = partes[1].replace(\"Explicação:\", \"\").strip()\n",
        "            explicacao_formatada = formatar_explicacao(explicacao, max_linha=60)\n",
        "            return correcao, explicacao_formatada\n",
        "        else:\n",
        "            return \"Erro ao processar a resposta\", \"Não foi possível separar correção e explicação.\"\n",
        "    except Exception as e:\n",
        "        return None, f\"Ocorreu um erro: {e}\"\n",
        "\n",
        "# Teste do fluxo\n",
        "if __name__ == \"__main__\":\n",
        "    API_KEY = \"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\"\n",
        "    client = configurar_groq(API_KEY)\n",
        "\n",
        "    while True:\n",
        "        frase = input(\"Digite uma frase para corrigir (ou pressione Enter para sair): \")\n",
        "        if not frase:\n",
        "            print(\"\\n Te vejo em breve!!!\")\n",
        "            break\n",
        "\n",
        "        correcao, explicacao = corrigir_frase_e_explicar(client, frase)\n",
        "        print(f\"Correção: {correcao}\\n\")\n",
        "        print(f\"Explicação:\\n{explicacao}\\n\")\n"
      ],
      "metadata": {
        "colab": {
          "base_uri": "https://localhost:8080/"
        },
        "id": "dJX1rhRtDTLh",
        "outputId": "63bd94fc-0edc-4b64-af03-76a5c5270405"
      },
      "execution_count": 3,
      "outputs": [
        {
          "output_type": "stream",
          "name": "stdout",
          "text": [
            "Digite uma frase para corrigir (ou pressione Enter para sair): my apple is beaitiful\n",
            "Correção: My apple is beautiful.\n",
            "\n",
            "Explicação:\n",
            "A palavra \"beaitiful\" está escrita de forma errada. A\n",
            "grafia correta é \"beautiful\".\n",
            "\n",
            "Digite uma frase para corrigir (ou pressione Enter para sair): he go to scholl\n",
            "Correção: He goes to school.\n",
            "\n",
            "Explicação:\n",
            "O erro está na concordância verbal. A frase original\n",
            "utilizou \"go\" no lugar de \"goes\", que é a forma correta do\n",
            "verbo \"to go\" no presente simples para sujeitos singular\n",
            "(he, she, it).\n",
            "\n",
            "Digite uma frase para corrigir (ou pressione Enter para sair): hgft ihgyu 76ghg\n",
            "Correção: Há um erro na frase, pois não há palavras ou estrutura gramatical reconhecíveis.\n",
            "\n",
            "Explicação:\n",
            "A frase apresentada parece ser um conjunto de caracteres\n",
            "aleatórios e não forma uma estrutura gramatical coerente em\n",
            "português ou qualquer outra língua.\n",
            "\n",
            "Digite uma frase para corrigir (ou pressione Enter para sair): \n",
            "\n",
            " Te vejo em breve!!!\n"
          ]
        }
      ]
    }
  ]
}